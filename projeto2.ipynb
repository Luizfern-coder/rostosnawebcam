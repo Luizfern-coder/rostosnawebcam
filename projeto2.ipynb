{
 "cells": [
  {
   "cell_type": "code",
   "execution_count": 1,
   "id": "ca68bac2",
   "metadata": {},
   "outputs": [],
   "source": [
    "\n",
    "import cv2 \n",
    "import mediapipe as mp"
   ]
  },
  {
   "cell_type": "code",
   "execution_count": 2,
   "id": "27c282d2",
   "metadata": {},
   "outputs": [],
   "source": [
    "import cv2\n",
    "import mediapipe as mp\n",
    "mp_face_detection = mp.solutions.face_detection\n",
    "mp_drawing = mp.solutions.drawing_utils"
   ]
  },
  {
   "cell_type": "code",
   "execution_count": 3,
   "id": "43cd41bb",
   "metadata": {},
   "outputs": [],
   "source": [
    "webcam = cv2.VideoCapture(0)"
   ]
  },
  {
   "cell_type": "code",
   "execution_count": 4,
   "id": "ef674d3e",
   "metadata": {},
   "outputs": [],
   "source": [
    "reconhecimento_rosto = mp.solutions.face_detection\n",
    "desenho = mp.solutions.drawing_utils\n",
    "reconhecedor_rosto = reconhecimento_rosto.FaceDetection()"
   ]
  },
  {
   "cell_type": "code",
   "execution_count": 5,
   "id": "d172f4e9",
   "metadata": {},
   "outputs": [],
   "source": [
    "while webcam.isOpened():\n",
    "    validacao, frame = webcam.read()\n",
    "    if not validacao: \n",
    "      break \n",
    "    imagem = frame\n",
    "    lista_rostos = reconhecedor_rosto.process(imagem)\n",
    "\n",
    "    if lista_rostos.detections:\n",
    "       for rosto in lista_rostos.detections:\n",
    "           desenho.draw_detection(imagem, rosto)\n",
    "    cv2.imshow(\"Rostos na sua Webcam\", imagem)\n",
    "    if cv2.waitKey(5) == 27:\n",
    "       break\n",
    "webcam.release()\n",
    "cv2.destroyAllWindows()\n"
   ]
  },
  {
   "cell_type": "code",
   "execution_count": null,
   "id": "a67670a1",
   "metadata": {},
   "outputs": [],
   "source": []
  }
 ],
 "metadata": {
  "kernelspec": {
   "display_name": "Python 3 (ipykernel)",
   "language": "python",
   "name": "python3"
  },
  "language_info": {
   "codemirror_mode": {
    "name": "ipython",
    "version": 3
   },
   "file_extension": ".py",
   "mimetype": "text/x-python",
   "name": "python",
   "nbconvert_exporter": "python",
   "pygments_lexer": "ipython3",
   "version": "3.9.12"
  }
 },
 "nbformat": 4,
 "nbformat_minor": 5
}
